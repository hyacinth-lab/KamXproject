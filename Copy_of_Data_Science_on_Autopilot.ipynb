{
  "nbformat": 4,
  "nbformat_minor": 0,
  "metadata": {
    "colab": {
      "provenance": [],
      "include_colab_link": true
    },
    "kernelspec": {
      "name": "python3",
      "display_name": "Python 3"
    },
    "language_info": {
      "name": "python"
    }
  },
  "cells": [
    {
      "cell_type": "markdown",
      "metadata": {
        "id": "view-in-github",
        "colab_type": "text"
      },
      "source": [
        "<a href=\"https://colab.research.google.com/github/hyacinth-lab/KamXproject/blob/main/Copy_of_Data_Science_on_Autopilot.ipynb\" target=\"_parent\"><img src=\"https://colab.research.google.com/assets/colab-badge.svg\" alt=\"Open In Colab\"/></a>"
      ]
    },
    {
      "cell_type": "markdown",
      "metadata": {
        "id": "hBURZmks2m0I"
      },
      "source": [
        "# CODING TASK #1: IMPORT LIBRARIES AND DATASETS"
      ]
    },
    {
      "cell_type": "code",
      "execution_count": null,
      "metadata": {
        "id": "T5kZL5iw2m0M"
      },
      "outputs": [],
      "source": [
        "import pandas as pd\n",
        "import numpy as np\n",
        "import seaborn as sns\n",
        "import matplotlib.pyplot as plt"
      ]
    },
    {
      "cell_type": "code",
      "source": [
        "# For Autogluon to work in Google Colab, you need to install ipykernel and restart the notebook\n",
        "# The IPython kernel is the Python execution backend for Jupyter\n",
        "!pip install -U ipykernel"
      ],
      "metadata": {
        "id": "G4F3PufS26SW"
      },
      "execution_count": null,
      "outputs": []
    },
    {
      "cell_type": "code",
      "execution_count": null,
      "metadata": {
        "id": "M633n5tQ2m0O"
      },
      "outputs": [],
      "source": [
        "!pip install -U pip\n",
        "!pip install -U setuptools wheel\n",
        "!pip install -U \"mxnet<2.0.0\"\n",
        "!pip install autogluon --no-cache-dir"
      ]
    },
    {
      "cell_type": "code",
      "execution_count": null,
      "metadata": {
        "id": "KkOWsSVE2m0P"
      },
      "outputs": [],
      "source": [
        "# pip install autogluon autogluon.tabular \"mxnet<2.0.0\""
      ]
    },
    {
      "cell_type": "code",
      "execution_count": null,
      "metadata": {
        "id": "BuggA3_82m0Q"
      },
      "outputs": [],
      "source": [
        "# AutoGluon is modularized into sub-modules for: 1. Tabular, 2. text, 3.Images\n",
        "from autogluon.tabular import TabularDataset, TabularPredictor"
      ]
    },
    {
      "cell_type": "code",
      "execution_count": null,
      "metadata": {
        "id": "3JlcVMS62m0Q"
      },
      "outputs": [],
      "source": [
        "insurance_df = pd.read_csv('insurance.csv')"
      ]
    },
    {
      "cell_type": "code",
      "execution_count": null,
      "metadata": {
        "id": "kjZOM10G2m0R"
      },
      "outputs": [],
      "source": [
        "insurance_df"
      ]
    },
    {
      "cell_type": "markdown",
      "metadata": {
        "id": "Tf1wpHOE2m0S"
      },
      "source": [
        "**PRACTICE OPPORTUNITY #1 [OPTIONAL]:**\n",
        "- **How many unique regions do we have in the insurance_df DataFrame?**"
      ]
    },
    {
      "cell_type": "code",
      "execution_count": null,
      "metadata": {
        "id": "NCvjK2j32m0S"
      },
      "outputs": [],
      "source": []
    },
    {
      "cell_type": "markdown",
      "metadata": {
        "id": "pLbiu__M2m0T"
      },
      "source": [
        "# CODING TASK #2: PERFORM EXPLORATORY DATA ANALYSIS"
      ]
    },
    {
      "cell_type": "code",
      "execution_count": null,
      "metadata": {
        "id": "5xny5jHF2m0T"
      },
      "outputs": [],
      "source": [
        "# Explore the first five rows in the DataFrame\n",
        "insurance_df.head(3)"
      ]
    },
    {
      "cell_type": "code",
      "execution_count": null,
      "metadata": {
        "id": "KNv-Tx-t2m0T"
      },
      "outputs": [],
      "source": [
        "# Explore the last five rows in the DataFrame\n",
        "insurance_df.tail()"
      ]
    },
    {
      "cell_type": "code",
      "execution_count": null,
      "metadata": {
        "id": "sXDCHESx2m0U"
      },
      "outputs": [],
      "source": [
        "# Generate statistical summary\n",
        "insurance_df.describe()"
      ]
    },
    {
      "cell_type": "code",
      "execution_count": null,
      "metadata": {
        "id": "pLPLmPrA2m0U"
      },
      "outputs": [],
      "source": [
        "# Obtain dataset information\n",
        "insurance_df.info()"
      ]
    },
    {
      "cell_type": "code",
      "execution_count": null,
      "metadata": {
        "id": "fj-6oGUj2m0U"
      },
      "outputs": [],
      "source": [
        "# Grouping by region to see any relationship between region and charges\n",
        "# Seems like south east region has the highest charges and body mass index\n",
        "df_region = insurance_df.groupby(by='region').mean()\n",
        "df_region"
      ]
    },
    {
      "cell_type": "markdown",
      "metadata": {
        "id": "sqzWuI5j2m0V"
      },
      "source": [
        "**PRACTICE OPPORTUNITY #2 [OPTIONAL]:**\n",
        "- **Group data by 'age' and examine the relationship between 'age' and 'charges'**"
      ]
    },
    {
      "cell_type": "code",
      "execution_count": null,
      "metadata": {
        "id": "D5jsu0qZ2m0V"
      },
      "outputs": [],
      "source": []
    },
    {
      "cell_type": "markdown",
      "metadata": {
        "id": "Ygf2Gs_z2m0V"
      },
      "source": [
        "# CODING TASK #3: PERFORM DATA VISUALIZATION"
      ]
    },
    {
      "cell_type": "code",
      "execution_count": null,
      "metadata": {
        "id": "iD5WvHNA2m0V"
      },
      "outputs": [],
      "source": [
        "# check if there are any Null values\n",
        "sns.heatmap(insurance_df.isnull(), yticklabels = False, cbar = False, cmap=\"Blues\")"
      ]
    },
    {
      "cell_type": "code",
      "execution_count": null,
      "metadata": {
        "id": "VRf9uNn02m0W"
      },
      "outputs": [],
      "source": [
        "# check if there are any Null values\n",
        "insurance_df.isnull().sum()"
      ]
    },
    {
      "cell_type": "code",
      "execution_count": null,
      "metadata": {
        "id": "B9auoObF2m0W"
      },
      "outputs": [],
      "source": [
        "insurance_df[['age', 'sex', 'bmi', 'children', 'smoker', 'charges']].hist(bins = 30, figsize = (12, 12), color = 'r');\n"
      ]
    },
    {
      "cell_type": "code",
      "execution_count": null,
      "metadata": {
        "id": "uCJS5E112m0W"
      },
      "outputs": [],
      "source": [
        "# plot pairplot\n",
        "sns.pairplot(insurance_df)"
      ]
    },
    {
      "cell_type": "code",
      "execution_count": null,
      "metadata": {
        "id": "rNv2uILj2m0X"
      },
      "outputs": [],
      "source": [
        "plt.figure(figsize = (15, 6))\n",
        "sns.regplot(x = 'age', y = 'charges', data = insurance_df)\n",
        "plt.show()\n"
      ]
    },
    {
      "cell_type": "code",
      "execution_count": null,
      "metadata": {
        "id": "BC2BGVlH2m0X"
      },
      "outputs": [],
      "source": [
        "plt.figure(figsize = (15, 6))\n",
        "sns.regplot(x = 'bmi', y = 'charges', data = insurance_df)\n",
        "plt.show()\n"
      ]
    },
    {
      "cell_type": "markdown",
      "metadata": {
        "id": "SUtpSXqb2m0X"
      },
      "source": [
        "**PRACTICE OPPORTUNITY #3 [OPTIONAL]:**\n",
        " - **Calculate and plot the correlation matrix**\n",
        " - **Which feature has the most positive correlation with charges?**"
      ]
    },
    {
      "cell_type": "code",
      "execution_count": null,
      "metadata": {
        "id": "i5hDtYDK2m0X"
      },
      "outputs": [],
      "source": []
    },
    {
      "cell_type": "code",
      "execution_count": null,
      "metadata": {
        "id": "7R-oc_Tb2m0X"
      },
      "outputs": [],
      "source": []
    },
    {
      "cell_type": "markdown",
      "metadata": {
        "id": "4gROKtuz2m0X"
      },
      "source": [
        "# CODING TASK #4: TRAIN MULTIPLE MODELS USING AUTOGLUON"
      ]
    },
    {
      "cell_type": "code",
      "execution_count": null,
      "metadata": {
        "id": "7NMB_yRy2m0Y"
      },
      "outputs": [],
      "source": [
        "# Split the data into 80% for training and 20% for testing using train_test_split\n",
        "from sklearn.model_selection import train_test_split\n",
        "X_train, X_test = train_test_split(insurance_df, test_size=0.2, random_state=0)"
      ]
    },
    {
      "cell_type": "code",
      "execution_count": null,
      "metadata": {
        "id": "FzURs_qd2m0Y"
      },
      "outputs": [],
      "source": [
        "X_train"
      ]
    },
    {
      "cell_type": "code",
      "execution_count": null,
      "metadata": {
        "id": "HeKJdacS2m0Y"
      },
      "outputs": [],
      "source": [
        "X_test"
      ]
    },
    {
      "cell_type": "code",
      "execution_count": null,
      "metadata": {
        "id": "c2fuVFsx2m0Y"
      },
      "outputs": [],
      "source": [
        "# Train multiple ML regression models using AutoGluon\n",
        "# You need to specify the target column, train_data, limit_time, and presets\n",
        "# Note that AutoGluon automatically detects if the problem is classification or regression type problems from the 'label' column\n",
        "# For regression type problems, 'label' values are generally floating point non-integers with large number of unique values\n",
        "\n",
        "predictor = TabularPredictor(label=\"charges\", problem_type = 'regression', eval_metric = 'r2').fit(train_data = X_train, time_limit = 200, presets = \"best_quality\")"
      ]
    },
    {
      "cell_type": "code",
      "execution_count": null,
      "metadata": {
        "id": "rEATJ-Ko2m0Y"
      },
      "outputs": [],
      "source": [
        "predictor.fit_summary()"
      ]
    },
    {
      "cell_type": "markdown",
      "metadata": {
        "id": "wsFWhGU32m0Z"
      },
      "source": [
        "# CODING TASK #5: EVALUATE TRAINED MODELS PERFORMANCE"
      ]
    },
    {
      "cell_type": "code",
      "execution_count": null,
      "metadata": {
        "id": "SM-O6ct42m0b"
      },
      "outputs": [],
      "source": [
        "predictor.leaderboard()"
      ]
    },
    {
      "cell_type": "code",
      "execution_count": null,
      "metadata": {
        "id": "u6SKB0Gd2m0b"
      },
      "outputs": [],
      "source": [
        "# Initialize the matplotlib figure\n",
        "f, ax = plt.subplots(figsize = (15, 6))\n",
        "sns.barplot(x = \"model\", y = \"score_val\", data = predictor.leaderboard(), color = \"b\")\n",
        "ax.set(ylabel = \"Performance Metric (R2)\", xlabel = \"Regression Models\")\n",
        "plt.xticks(rotation = 45);"
      ]
    },
    {
      "cell_type": "code",
      "execution_count": null,
      "metadata": {
        "id": "SrzGxCkf2m0c"
      },
      "outputs": [],
      "source": [
        "predictor.evaluate(X_test)"
      ]
    },
    {
      "cell_type": "code",
      "execution_count": null,
      "metadata": {
        "id": "aU1kbbES2m0c"
      },
      "outputs": [],
      "source": [
        "# assess model performance\n",
        "# Pick 5 test datasets and generate predictions\n",
        "y_pred = predictor.predict(X_test)\n",
        "print(\"Predictions:  \", list(y_pred)[:5])"
      ]
    },
    {
      "cell_type": "code",
      "execution_count": null,
      "metadata": {
        "id": "2HuHDmSA2m0c"
      },
      "outputs": [],
      "source": [
        "X_test"
      ]
    },
    {
      "cell_type": "code",
      "execution_count": null,
      "metadata": {
        "id": "BeCW71pr2m0c"
      },
      "outputs": [],
      "source": [
        "y_test = X_test['charges']\n",
        "y_test #groundtruth"
      ]
    },
    {
      "cell_type": "code",
      "execution_count": null,
      "metadata": {
        "id": "qAZtsGL22m0c"
      },
      "outputs": [],
      "source": [
        "y_predict = predictor.predict(X_test)\n",
        "plt.figure(figsize = (15, 10))\n",
        "plt.plot(y_test, y_predict, \"^\", color = 'r')\n",
        "plt.ylabel('Model Predictions')\n",
        "plt.xlabel('True Values')"
      ]
    },
    {
      "cell_type": "code",
      "execution_count": null,
      "metadata": {
        "id": "aLJFnlsv2m0d"
      },
      "outputs": [],
      "source": [
        "from sklearn.metrics import r2_score, mean_squared_error, mean_absolute_error\n",
        "from math import sqrt\n",
        "\n",
        "RMSE = float(format(np.sqrt(mean_squared_error(y_test, y_predict)),'.3f'))\n",
        "MSE = mean_squared_error(y_test, y_predict)\n",
        "MAE = mean_absolute_error(y_test, y_predict)\n",
        "r2 = r2_score(y_test, y_predict)\n",
        "\n",
        "print('RMSE =',RMSE, '\\nMSE =',MSE, '\\nMAE =',MAE, '\\nR2 =', r2)"
      ]
    },
    {
      "cell_type": "markdown",
      "metadata": {
        "id": "6gSCiUYD2m0d"
      },
      "source": [
        "**PRACTICE OPPORTUNITY #4 [OPTIONAL]:**\n",
        "- **Retrain a regressor model using AutoGluon with different preset value**\n",
        "- **Set the limit_time to 300 secs**\n",
        "- **Use RMSE as the key metric and plot the barchart**\n",
        "- **Which model provides the best performance?**\n",
        "- **Assess trained model performance by comparing various metrics**"
      ]
    },
    {
      "cell_type": "code",
      "execution_count": null,
      "metadata": {
        "id": "fkz9oUZN2m0d"
      },
      "outputs": [],
      "source": []
    },
    {
      "cell_type": "markdown",
      "metadata": {
        "id": "jRM0fIij2m0d"
      },
      "source": [
        "# PRACTICE OPPORTUNITY SOLUTIONS"
      ]
    },
    {
      "cell_type": "markdown",
      "metadata": {
        "id": "fOXtSIa22m0d"
      },
      "source": [
        "**PRACTICE OPPORTUNITY #1 SOLUTION:**\n",
        "- **How many unique regions do we have in the insurance_df?**"
      ]
    },
    {
      "cell_type": "code",
      "execution_count": null,
      "metadata": {
        "id": "NHrA10iW2m0d"
      },
      "outputs": [],
      "source": [
        "insurance_df['region'].unique()"
      ]
    },
    {
      "cell_type": "markdown",
      "metadata": {
        "id": "pAEt5syv2m0d"
      },
      "source": [
        "**PRACTICE OPPORTUNITY #2 SOLUTION:**\n",
        "- **Group data by 'age' and examine the relationship between 'age' and 'charges'**"
      ]
    },
    {
      "cell_type": "code",
      "execution_count": null,
      "metadata": {
        "id": "CQX_cCJe2m0e"
      },
      "outputs": [],
      "source": [
        "df_age = insurance_df.groupby(by = 'age').mean()\n",
        "df_age"
      ]
    },
    {
      "cell_type": "markdown",
      "metadata": {
        "id": "qdPD_EtM2m0e"
      },
      "source": [
        "**PRACTICE OPPORTUNITY #3 SOLUTION:**\n",
        " - **Calculate and plot the correlation matrix**\n",
        " - **Which feature has the most positive correlation with charges?**"
      ]
    },
    {
      "cell_type": "code",
      "execution_count": null,
      "metadata": {
        "id": "Lh1wiNYP2m0e"
      },
      "outputs": [],
      "source": [
        "plt.figure(figsize = (15, 10))\n",
        "sns.heatmap(insurance_df.corr(), annot = True);\n",
        "# smoker and age have positive correlations with charges"
      ]
    },
    {
      "cell_type": "markdown",
      "metadata": {
        "id": "rQfDsPwT2m0e"
      },
      "source": [
        "**PRACTICE OPPORTUNITY #4 SOLUTION:**\n",
        "- **Retrain a regressor model using AutoGluon with different preset value**\n",
        "- **Set the limit_time to 300 secs**\n",
        "- **Use RMSE as the key metric and plot the barchart**\n",
        "- **Which model provides the best performance?**\n",
        "- **Assess trained model performance by comparing various metrics**"
      ]
    },
    {
      "cell_type": "code",
      "execution_count": null,
      "metadata": {
        "id": "QbXdDynG2m0e"
      },
      "outputs": [],
      "source": [
        "predictor = TabularPredictor(label=\"charges\", problem_type = 'regression', eval_metric = 'rmse').fit(train_data = X_train, time_limit = 300, presets = \"optimize_for_deployment\")\n",
        "predictor.fit_summary()\n",
        "predictor.leaderboard()\n",
        "\n",
        "# Initialize the matplotlib figure\n",
        "f, ax = plt.subplots(figsize = (15, 6))\n",
        "sns.barplot(x = \"model\", y = \"score_val\", data = predictor.leaderboard(), color = \"b\")\n",
        "ax.set(ylabel = \"Performance Metric (RMSE)\", xlabel = \"Regression Models\")\n",
        "plt.xticks(rotation = 45);\n",
        "\n",
        "predictor.evaluate(X_test)"
      ]
    },
    {
      "cell_type": "code",
      "execution_count": null,
      "metadata": {
        "id": "P7o2u2pk2m0f"
      },
      "outputs": [],
      "source": []
    },
    {
      "cell_type": "code",
      "source": [],
      "metadata": {
        "id": "ry7stkxL2ya3"
      },
      "execution_count": null,
      "outputs": []
    },
    {
      "cell_type": "markdown",
      "source": [
        "# FINAL CAPSTONE PROJECT"
      ],
      "metadata": {
        "id": "6FdvnRuEHVKj"
      }
    },
    {
      "cell_type": "markdown",
      "source": [
        "- The objective of this project is to build, train, and test a classifier model to predict diabetes in patients using AutoGluon. This project can be effectively used by healthcare professionals to detect diabetes and understand key factors that contribute to the disease.\n",
        "- Please complete the following tasks:\n",
        "  - Load the “diabetes.csv” dataset\n",
        "  - Perform basic Exploratory Data Analysis (EDA)\n",
        "  - Using ‘best_quality’ preset and ‘accuracy’ metric, train classification models using AutoGluon to predict the “Outcome” column\n",
        "  - Evaluate trained models' performance by plotting the leaderboard and indicating the best model. Plot the confusion matrix.\n"
      ],
      "metadata": {
        "id": "2JIW7ZBcHYU0"
      }
    },
    {
      "cell_type": "markdown",
      "source": [
        "# FINAL CAPSTONE PROJECT SOLUTION"
      ],
      "metadata": {
        "id": "G4a_ZSEG3CXY"
      }
    },
    {
      "cell_type": "markdown",
      "metadata": {
        "id": "XjpVcuyG2gP2"
      },
      "source": [
        "# PROJECT TASK #1: IMPORT LIBRARIES AND DATASETS"
      ]
    },
    {
      "cell_type": "code",
      "execution_count": null,
      "metadata": {
        "id": "4HjoYoMB2gP5"
      },
      "outputs": [],
      "source": [
        "# Import Key Libaries and datsets\n",
        "import pandas as pd\n",
        "import numpy as np\n",
        "import seaborn as sns\n",
        "import matplotlib.pyplot as plt"
      ]
    },
    {
      "cell_type": "code",
      "execution_count": null,
      "metadata": {
        "id": "IzrLZLNm2gP5"
      },
      "outputs": [],
      "source": [
        "!pip install -U pip\n",
        "!pip install -U setuptools wheel\n",
        "!pip install -U \"mxnet<2.0.0\"\n",
        "!pip install autogluon --no-cache-dir"
      ]
    },
    {
      "cell_type": "code",
      "execution_count": null,
      "metadata": {
        "id": "SqBd46gR2gP6"
      },
      "outputs": [],
      "source": [
        "# pip install autogluon autogluon.tabular \"mxnet<2.0.0\""
      ]
    },
    {
      "cell_type": "code",
      "execution_count": null,
      "metadata": {
        "id": "xRxlL6iT2gP6"
      },
      "outputs": [],
      "source": [
        "# AutoGluon is modularized into sub-modules for: 1. Tabular, 2. text, 3.Images\n",
        "from autogluon.tabular import TabularDataset, TabularPredictor"
      ]
    },
    {
      "cell_type": "code",
      "execution_count": null,
      "metadata": {
        "id": "uCkZw0tB2gP7"
      },
      "outputs": [],
      "source": [
        "# Read Diabetes datsets\n",
        "diabetes_df = pd.read_csv('diabetes.csv')"
      ]
    },
    {
      "cell_type": "code",
      "execution_count": null,
      "metadata": {
        "id": "0XUSXGxI2gP7"
      },
      "outputs": [],
      "source": [
        "diabetes_df"
      ]
    },
    {
      "cell_type": "markdown",
      "metadata": {
        "id": "3z7Ezso52gP8"
      },
      "source": [
        "# PROJECT TASK #2: PERFORM EXPLORATORY DATA ANALYSIS AND VISUALIZATION"
      ]
    },
    {
      "cell_type": "code",
      "execution_count": null,
      "metadata": {
        "id": "zboflRqx2gP8"
      },
      "outputs": [],
      "source": [
        "# Explore the first five rows in the DataFrame\n",
        "diabetes_df.head()"
      ]
    },
    {
      "cell_type": "code",
      "execution_count": null,
      "metadata": {
        "id": "DoP7TAqL2gP9"
      },
      "outputs": [],
      "source": [
        "# Explore the last five rows in the DataFrame\n",
        "diabetes_df.tail()"
      ]
    },
    {
      "cell_type": "code",
      "execution_count": null,
      "metadata": {
        "id": "fNEXH4eb2gP9"
      },
      "outputs": [],
      "source": [
        "# Generate statistical summary\n",
        "diabetes_df.describe()"
      ]
    },
    {
      "cell_type": "code",
      "execution_count": null,
      "metadata": {
        "id": "H8IPkNFL2gP9"
      },
      "outputs": [],
      "source": [
        "# Obtain dataset information\n",
        "diabetes_df.info()"
      ]
    },
    {
      "cell_type": "code",
      "execution_count": null,
      "metadata": {
        "id": "Ab9ffaLu2gP9"
      },
      "outputs": [],
      "source": [
        "# check if there are any Null values\n",
        "sns.heatmap(diabetes_df.isnull(), yticklabels = False, cbar = False, cmap=\"Blues\")"
      ]
    },
    {
      "cell_type": "code",
      "execution_count": null,
      "metadata": {
        "id": "WbxNHWlt2gP-"
      },
      "outputs": [],
      "source": [
        "# check if there are any Null values\n",
        "diabetes_df.isnull().sum()"
      ]
    },
    {
      "cell_type": "code",
      "execution_count": null,
      "metadata": {
        "id": "kLy2vQhF2gP-"
      },
      "outputs": [],
      "source": [
        "diabetes_df.hist(bins = 30, figsize = (12, 12), color = 'r');"
      ]
    },
    {
      "cell_type": "code",
      "execution_count": null,
      "metadata": {
        "id": "GMw33NSS2gP-"
      },
      "outputs": [],
      "source": [
        "# plot pairplot\n",
        "sns.pairplot(diabetes_df, hue = 'Outcome', vars = ['Pregnancies', 'Glucose', 'BloodPressure', 'SkinThickness', 'Insulin', 'BMI', 'DiabetesPedigreeFunction', 'Age'])"
      ]
    },
    {
      "cell_type": "code",
      "execution_count": null,
      "metadata": {
        "id": "AEQfRAAB2gP-"
      },
      "outputs": [],
      "source": [
        "plt.figure(figsize = (15, 10))\n",
        "sns.heatmap(diabetes_df.corr(), annot = True);\n",
        "# smoker and age have positive correlations with charges"
      ]
    },
    {
      "cell_type": "code",
      "execution_count": null,
      "metadata": {
        "id": "tslwCs2U2gP_"
      },
      "outputs": [],
      "source": [
        "plt.figure(figsize = (12, 7))\n",
        "sns.countplot(x = 'Outcome', data = diabetes_df)"
      ]
    },
    {
      "cell_type": "markdown",
      "metadata": {
        "id": "Z7fw_2tU2gP_"
      },
      "source": [
        "# PROJECT TASK #3: TRAIN MULTIPLE MODELS USING AUTOGLUON"
      ]
    },
    {
      "cell_type": "code",
      "execution_count": null,
      "metadata": {
        "id": "7vr-rj1v2gP_"
      },
      "outputs": [],
      "source": [
        "# Split the data into 80% for training and 20% for testing using train_test_split\n",
        "from sklearn.model_selection import train_test_split\n",
        "X_train, X_test = train_test_split(diabetes_df, test_size=0.2, random_state=0)"
      ]
    },
    {
      "cell_type": "code",
      "execution_count": null,
      "metadata": {
        "id": "wOHi_md72gP_"
      },
      "outputs": [],
      "source": [
        "X_train"
      ]
    },
    {
      "cell_type": "code",
      "execution_count": null,
      "metadata": {
        "id": "Nt1T1ZKc2gP_"
      },
      "outputs": [],
      "source": [
        "X_test"
      ]
    },
    {
      "cell_type": "code",
      "execution_count": null,
      "metadata": {
        "id": "v8-lcdEt2gP_"
      },
      "outputs": [],
      "source": [
        "# Train multiple ML classifier models using AutoGluon\n",
        "# You need to specify the target column, train_data, limit_time, and presets\n",
        "# Note that AutoGluon automatically detects if the problem is classification or regression type problems from the 'label' column\n",
        "predictor = TabularPredictor(label=\"Outcome\", problem_type = 'binary', eval_metric = 'accuracy').fit(train_data = X_train, time_limit = 200, presets = \"best_quality\")"
      ]
    },
    {
      "cell_type": "code",
      "execution_count": null,
      "metadata": {
        "id": "W9or6FKs2gQA"
      },
      "outputs": [],
      "source": [
        "predictor.fit_summary()"
      ]
    },
    {
      "cell_type": "markdown",
      "metadata": {
        "id": "oMcMiuBc2gQA"
      },
      "source": [
        "# PROJECT TASK #4: EVALUATE TRAINED MODEL PERFORMANCE"
      ]
    },
    {
      "cell_type": "code",
      "execution_count": null,
      "metadata": {
        "id": "aR1eZRdq2gQA"
      },
      "outputs": [],
      "source": [
        "predictor.leaderboard()"
      ]
    },
    {
      "cell_type": "code",
      "execution_count": null,
      "metadata": {
        "id": "SG31u53G2gQA"
      },
      "outputs": [],
      "source": [
        "# Initialize the matplotlib figure\n",
        "f, ax = plt.subplots(figsize = (15, 6))\n",
        "sns.barplot(x = \"model\", y = \"score_val\", data = predictor.leaderboard(), color = \"b\")\n",
        "ax.set(ylabel = \"Performance Metric (Accuracy)\", xlabel = \"Classification Models\")\n",
        "plt.xticks(rotation = 45);\n"
      ]
    },
    {
      "cell_type": "code",
      "execution_count": null,
      "metadata": {
        "id": "c2W6PFHT2gQA"
      },
      "outputs": [],
      "source": [
        "predictor.evaluate(X_test)"
      ]
    },
    {
      "cell_type": "code",
      "execution_count": null,
      "metadata": {
        "id": "LnYtevwX2gQA"
      },
      "outputs": [],
      "source": [
        "# assess model performance\n",
        "# Pick 5 test datasets and generate predictions\n",
        "y_pred = predictor.predict(X_test)\n",
        "print(\"Predictions:  \", list(y_pred)[:5])"
      ]
    },
    {
      "cell_type": "code",
      "execution_count": null,
      "metadata": {
        "id": "T57opxL_2gQA"
      },
      "outputs": [],
      "source": [
        "y_test = X_test['Outcome']\n",
        "y_test"
      ]
    },
    {
      "cell_type": "code",
      "execution_count": null,
      "metadata": {
        "id": "ukBnbcVr2gQA"
      },
      "outputs": [],
      "source": [
        "# Training set Performance\n",
        "from sklearn.metrics import confusion_matrix\n",
        "# Testing Set Performance\n",
        "plt.figure(figsize = (12, 8))\n",
        "cm = confusion_matrix(y_test, y_pred)\n",
        "sns.heatmap(cm, annot=True)\n"
      ]
    },
    {
      "cell_type": "code",
      "execution_count": null,
      "metadata": {
        "id": "vGB5LmQB2gQB"
      },
      "outputs": [],
      "source": [
        "from sklearn.metrics import classification_report\n",
        "print(classification_report(y_test, y_pred))"
      ]
    },
    {
      "cell_type": "markdown",
      "source": [
        "# GREAT JOB!"
      ],
      "metadata": {
        "id": "J4H_sfN78tOC"
      }
    },
    {
      "cell_type": "code",
      "source": [],
      "metadata": {
        "id": "EWsrdTzjIEFg"
      },
      "execution_count": null,
      "outputs": []
    }
  ]
}