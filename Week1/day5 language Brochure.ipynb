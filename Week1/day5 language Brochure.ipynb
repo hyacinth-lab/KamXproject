{
  "nbformat": 4,
  "nbformat_minor": 0,
  "metadata": {
    "colab": {
      "provenance": [],
      "authorship_tag": "ABX9TyMo5N8/BQBmjk8cEJAcpxtZ",
      "include_colab_link": true
    },
    "kernelspec": {
      "name": "python3",
      "display_name": "Python 3"
    },
    "language_info": {
      "name": "python"
    }
  },
  "cells": [
    {
      "cell_type": "markdown",
      "metadata": {
        "id": "view-in-github",
        "colab_type": "text"
      },
      "source": [
        "<a href=\"https://colab.research.google.com/github/hyacinth-lab/KamXproject/blob/main/Week1/day5%20language%20Brochure.ipynb\" target=\"_parent\"><img src=\"https://colab.research.google.com/assets/colab-badge.svg\" alt=\"Open In Colab\"/></a>"
      ]
    },
    {
      "cell_type": "code",
      "execution_count": null,
      "metadata": {
        "id": "KM_7MCzftb2r"
      },
      "outputs": [],
      "source": [
        "# imports\n",
        "# If these fail, please check you're running from an 'activated' environment with (llms) in the command prompt\n",
        "\n",
        "import os\n",
        "import requests\n",
        "import json\n",
        "from typing import List\n",
        "from dotenv import load_dotenv\n",
        "from bs4 import BeautifulSoup\n",
        "from IPython.display import Markdown, display, update_display\n",
        "from openai import OpenAI"
      ]
    },
    {
      "cell_type": "code",
      "source": [
        "# Initialize and constants\n",
        "\n",
        "load_dotenv(override=True)\n",
        "api_key = os.getenv('OPENAI_API_KEY')\n",
        "\n",
        "if api_key and api_key.startswith('sk-proj-') and len(api_key)>10:\n",
        "    print(\"API key looks good so far\")\n",
        "else:\n",
        "    print(\"There might be a problem with your API key? Please visit the troubleshooting notebook!\")\n",
        "\n",
        "MODEL = 'gpt-4o-mini'\n",
        "openai = OpenAI()"
      ],
      "metadata": {
        "id": "-QGYqQ_otmGy"
      },
      "execution_count": null,
      "outputs": []
    },
    {
      "cell_type": "code",
      "source": [
        "# A class to represent a Webpage\n",
        "\n",
        "# Some websites need you to use proper headers when fetching them:\n",
        "headers = {\n",
        " \"User-Agent\": \"Mozilla/5.0 (Windows NT 10.0; Win64; x64) AppleWebKit/537.36 (KHTML, like Gecko) Chrome/117.0.0.0 Safari/537.36\"\n",
        "}\n",
        "\n",
        "class Website:\n",
        "    \"\"\"\n",
        "    A utility class to represent a Website that we have scraped, now with links\n",
        "    \"\"\"\n",
        "\n",
        "    def __init__(self, url):\n",
        "        self.url = url\n",
        "        response = requests.get(url, headers=headers)\n",
        "        self.body = response.content\n",
        "        soup = BeautifulSoup(self.body, 'html.parser')\n",
        "        self.title = soup.title.string if soup.title else \"No title found\"\n",
        "        if soup.body:\n",
        "            for irrelevant in soup.body([\"script\", \"style\", \"img\", \"input\"]):\n",
        "                irrelevant.decompose()\n",
        "            self.text = soup.body.get_text(separator=\"\\n\", strip=True)\n",
        "        else:\n",
        "            self.text = \"\"\n",
        "        links = [link.get('href') for link in soup.find_all('a')]\n",
        "        self.links = [link for link in links if link]\n",
        "\n",
        "    def get_contents(self):\n",
        "        return f\"Webpage Title:\\n{self.title}\\nWebpage Contents:\\n{self.text}\\n\\n\""
      ],
      "metadata": {
        "id": "QyZLCN6QtpqJ"
      },
      "execution_count": null,
      "outputs": []
    },
    {
      "cell_type": "code",
      "source": [
        "link_system_prompt = \"You are provided with a list of links found on a webpage. \\\n",
        "You are able to decide which of the links would be most relevant to include in a brochure about the company, \\\n",
        "such as links to an About page, or a Company page, or Careers/Jobs pages.\\n\"\n",
        "link_system_prompt += \"You should respond in JSON as in this example:\"\n",
        "link_system_prompt += \"\"\"\n",
        "{\n",
        "    \"links\": [\n",
        "        {\"type\": \"about page\", \"url\": \"https://full.url/goes/here/about\"},\n",
        "        {\"type\": \"careers page\": \"url\": \"https://another.full.url/careers\"}\n",
        "    ]\n",
        "}\n",
        "\"\"\""
      ],
      "metadata": {
        "id": "PYzkaCIZtsrQ"
      },
      "execution_count": null,
      "outputs": []
    },
    {
      "cell_type": "code",
      "source": [
        "def get_links_user_prompt(website):\n",
        "    user_prompt = f\"Here is the list of links on the website of {website.url} - \"\n",
        "    user_prompt += \"please decide which of these are relevant web links for a brochure about the company, respond with the full https URL in JSON format. \\\n",
        "Do not include Terms of Service, Privacy, email links.\\n\"\n",
        "    user_prompt += \"Links (some might be relative links):\\n\"\n",
        "    user_prompt += \"\\n\".join(website.links)\n",
        "    return user_prompt"
      ],
      "metadata": {
        "id": "QBAP8dkdtthQ"
      },
      "execution_count": null,
      "outputs": []
    },
    {
      "cell_type": "code",
      "source": [
        "def get_links(url):\n",
        "    website = Website(url)\n",
        "    response = openai.chat.completions.create(\n",
        "        model=MODEL,\n",
        "        messages=[\n",
        "            {\"role\": \"system\", \"content\": link_system_prompt},\n",
        "            {\"role\": \"user\", \"content\": get_links_user_prompt(website)}\n",
        "      ],\n",
        "        response_format={\"type\": \"json_object\"}\n",
        "    )\n",
        "    result = response.choices[0].message.content\n",
        "    return json.loads(result)"
      ],
      "metadata": {
        "id": "wyxlAIgytwqv"
      },
      "execution_count": null,
      "outputs": []
    },
    {
      "cell_type": "code",
      "source": [
        "# Anthropic has made their site harder to scrape, so I'm using HuggingFace..\n",
        "\n",
        "huggingface = Website(\"https://huggingface.co\")\n",
        "huggingface.links"
      ],
      "metadata": {
        "id": "ji1qM74WtzVo"
      },
      "execution_count": null,
      "outputs": []
    },
    {
      "cell_type": "code",
      "source": [
        "get_links(\"https://huggingface.co\")"
      ],
      "metadata": {
        "id": "LN9jvE3tt4KW"
      },
      "execution_count": null,
      "outputs": []
    },
    {
      "cell_type": "code",
      "source": [
        "def get_all_details(url):\n",
        "    result = \"Landing page:\\n\"\n",
        "    result += Website(url).get_contents()\n",
        "    links = get_links(url)\n",
        "    print(\"Found links:\", links)\n",
        "    for link in links[\"links\"]:\n",
        "        result += f\"\\n\\n{link['type']}\\n\"\n",
        "        result += Website(link[\"url\"]).get_contents()\n",
        "    return result"
      ],
      "metadata": {
        "id": "BXV-ugRst7YY"
      },
      "execution_count": null,
      "outputs": []
    },
    {
      "cell_type": "code",
      "source": [
        "system_prompt = \"You are an assistant that analyzes the contents of several relevant pages from a company website \\\n",
        "and creates a short brochure about the company for prospective customers, investors and recruits. Respond in markdown.\\\n",
        "Include details of company culture, customers and careers/jobs if you have the information.\"\n",
        "\n",
        "# Or uncomment the lines below for a more humorous brochure - this demonstrates how easy it is to incorporate 'tone':\n",
        "\n",
        "# system_prompt = \"You are an assistant that analyzes the contents of several relevant pages from a company website \\\n",
        "# and creates a short humorous, entertaining, jokey brochure about the company for prospective customers, investors and recruits. Respond in markdown.\\\n",
        "# Include details of company culture, customers and careers/jobs if you have the information.\"\n"
      ],
      "metadata": {
        "id": "_AgOzQZRt8Ib"
      },
      "execution_count": null,
      "outputs": []
    },
    {
      "cell_type": "code",
      "source": [
        "def get_brochure_user_prompt(company_name, url):\n",
        "    user_prompt = f\"You are looking at a company called: {company_name}\\n\"\n",
        "    user_prompt += f\"Here are the contents of its landing page and other relevant pages; use this information to build a short brochure of the company in markdown.\\n\"\n",
        "    user_prompt += get_all_details(url)\n",
        "    user_prompt = user_prompt[:5_000] # Truncate if more than 5,000 characters\n",
        "    return user_prompt"
      ],
      "metadata": {
        "id": "L-MGhQf9t-pY"
      },
      "execution_count": null,
      "outputs": []
    },
    {
      "cell_type": "code",
      "source": [
        "def stream_brochure(company_name, url, language=\"English\"):\n",
        "    prompt = (\n",
        "        f\"Visit the company website at {url} and summarize its brochure or key offerings. \"\n",
        "        f\"Present the summary in **{language}**. Be clear and concise.\"\n",
        "    )\n",
        "\n",
        "    stream = openai.chat.completions.create(\n",
        "        model=MODEL,\n",
        "        messages=[\n",
        "            {\"role\": \"system\", \"content\": system_prompt},\n",
        "            {\"role\": \"user\", \"content\": prompt}\n",
        "        ],\n",
        "        stream=True\n",
        "    )\n",
        "\n",
        "    response = \"\"\n",
        "    display_handle = display(Markdown(\"\"), display_id=True)\n",
        "    for chunk in stream:\n",
        "        response += chunk.choices[0].delta.content or ''\n",
        "        response = response.replace(\"```\", \"\").replace(\"markdown\", \"\")\n",
        "        update_display(Markdown(response), display_id=display_handle.display_id)\n"
      ],
      "metadata": {
        "id": "s3MAamUSuBDm"
      },
      "execution_count": null,
      "outputs": []
    },
    {
      "cell_type": "code",
      "source": [
        "stream_brochure(\"HuggingFace\", \"https://huggingface.co\", language=\"Spanish\")"
      ],
      "metadata": {
        "id": "I1YA7hvuuDs_"
      },
      "execution_count": null,
      "outputs": []
    },
    {
      "cell_type": "code",
      "source": [
        "stream_brochure(\"Flux Resource\", \"https://fluxresource.com\", language=\"French\")"
      ],
      "metadata": {
        "id": "qyKrVZTiuF0T"
      },
      "execution_count": null,
      "outputs": []
    }
  ]
}